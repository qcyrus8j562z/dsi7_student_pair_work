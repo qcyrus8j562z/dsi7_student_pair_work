{
  "nbformat": 4,
  "nbformat_minor": 0,
  "metadata": {
    "colab": {
      "name": "Quentin_Cyrus_Python_Review.ipynb",
      "provenance": [],
      "collapsed_sections": [],
      "include_colab_link": true
    },
    "kernelspec": {
      "name": "python3",
      "display_name": "Python 3"
    }
  },
  "cells": [
    {
      "cell_type": "markdown",
      "metadata": {
        "id": "view-in-github",
        "colab_type": "text"
      },
      "source": [
        "<a href=\"https://colab.research.google.com/github/qcyrus8j562z/dsi7_student_pair_work/blob/master/Quentin_Cyrus_Python_Review.ipynb\" target=\"_parent\"><img src=\"https://colab.research.google.com/assets/colab-badge.svg\" alt=\"Open In Colab\"/></a>"
      ]
    },
    {
      "cell_type": "markdown",
      "metadata": {
        "id": "N8kNtdOlkFp6",
        "colab_type": "text"
      },
      "source": [
        "**Python Practice**\n",
        "Just some made up exercises.\n",
        "\n",
        "Some additional practice:\n",
        "\n",
        "https://codingbat.com/python\n",
        "https://www.practicepython.org/\n",
        "https://www.hackerrank.com/domains/python\n",
        "https://www.codewars.com/collections/basic-python\n",
        "Links from slides:\n",
        "\n",
        "https://automatetheboringstuff.com\n",
        "https://realpython.com/python-beginner-tips/"
      ]
    },
    {
      "cell_type": "markdown",
      "metadata": {
        "id": "FlnJBtgvkK5F",
        "colab_type": "text"
      },
      "source": [
        "\n",
        "**Dictionary sum**\n",
        "\n",
        "Write a function that accepts a dictionary and threshold value. The function should sum all of the dictionary values who's keys are greater than or equal to the threshold. The dictionary will have both numeric keys and values (ie {1: 2, 3: 4, 5: 6}).\n",
        "\n",
        "Example\n",
        "\n",
        "d = {1: 2, 3: 4, 5: 6}\n",
        "\n",
        "your_function(d, 3)\n",
        " Expected output is 10.\n",
        " The keys 3 & 5 are greater than or equal to the threshold of 3.\n",
        " The values corresponding to the keys 3 & 5 are 4 & 6, and 4 + 6 = 10."
      ]
    },
    {
      "cell_type": "code",
      "metadata": {
        "id": "ZgEKbMmZkWj5",
        "colab_type": "code",
        "colab": {}
      },
      "source": [
        "dictionary = {1: 2, 3: 4, 5: 6}\n",
        "\n",
        "def dictionary_threshold (dict, t):\n",
        "    values = 0\n",
        "    for i in dict.keys():\n",
        "        if i >= t:\n",
        "            values += dict[i]\n",
        "    return values"
      ],
      "execution_count": null,
      "outputs": []
    },
    {
      "cell_type": "code",
      "metadata": {
        "id": "Of0kDWvlkuyJ",
        "colab_type": "code",
        "colab": {
          "base_uri": "https://localhost:8080/",
          "height": 34
        },
        "outputId": "eac8556b-a60b-401d-cdd6-c3e0c9595d80"
      },
      "source": [
        "dictionary_threshold(dictionary, 5)"
      ],
      "execution_count": null,
      "outputs": [
        {
          "output_type": "execute_result",
          "data": {
            "text/plain": [
              "6"
            ]
          },
          "metadata": {
            "tags": []
          },
          "execution_count": 7
        }
      ]
    },
    {
      "cell_type": "code",
      "metadata": {
        "id": "bkMx1y7Rk4Jz",
        "colab_type": "code",
        "colab": {
          "base_uri": "https://localhost:8080/",
          "height": 34
        },
        "outputId": "aa88e9ed-66f8-4772-e9bb-33e2c4119bd2"
      },
      "source": [
        "dictionary_threshold(dictionary, 2)"
      ],
      "execution_count": null,
      "outputs": [
        {
          "output_type": "execute_result",
          "data": {
            "text/plain": [
              "10"
            ]
          },
          "metadata": {
            "tags": []
          },
          "execution_count": 8
        }
      ]
    },
    {
      "cell_type": "markdown",
      "metadata": {
        "id": "mWcZqFXHlAG_",
        "colab_type": "text"
      },
      "source": [
        "**Description**\n",
        "The data was extracted from the 1974 Motor Trend US magazine, and comprises fuel consumption and 10 aspects of automobile design and performance for 32 automobiles (1973–74 models).\n",
        "\n",
        "**Columns**\n",
        "A data frame with 32 observations on 11 (numeric) variables.\n",
        "\n",
        " 1. mpg    Miles/(US) gallon\n",
        " 2. cyl    Number of cylinders\n",
        " 3. disp   Displacement (cu.in.)\n",
        " 4. hp     Gross horsepower\n",
        " 5. drat   Rear axle ratio\n",
        " 6. wt     Weight (1000 lbs)\n",
        " 7. qsec   1/4 mile time\n",
        " 8. vs     Engine (0 = V-shaped, 1 = straight)\n",
        " 9. am     Transmission (0 = automatic, 1 = manual)\n",
        "10. gear   Number of forward gears\n",
        "11. carb   Number of carburetors"
      ]
    },
    {
      "cell_type": "code",
      "metadata": {
        "id": "8rcGKzjJligW",
        "colab_type": "code",
        "colab": {}
      },
      "source": [
        "import pandas as pd\n",
        "import numpy as np\n",
        "import seaborn as sns\n",
        "import matplotlib.pyplot as plt\n",
        "%matplotlib inline\n",
        "\n",
        "cars_url = 'https://gist.githubusercontent.com/ZeccaLehn/4e06d2575eb9589dbe8c365d61cb056c/raw/64f1660f38ef523b2a1a13be77b002b98665cdfe/mtcars.csv'"
      ],
      "execution_count": null,
      "outputs": []
    },
    {
      "cell_type": "markdown",
      "metadata": {
        "id": "QzG5SjWMlp20",
        "colab_type": "text"
      },
      "source": [
        "**Read the data frame using mtcars_url**"
      ]
    },
    {
      "cell_type": "code",
      "metadata": {
        "id": "RMUCTQLbltll",
        "colab_type": "code",
        "colab": {}
      },
      "source": [
        "cars_df = pd.read_csv(cars_url)"
      ],
      "execution_count": null,
      "outputs": []
    },
    {
      "cell_type": "markdown",
      "metadata": {
        "id": "qRu0H9B9l0kH",
        "colab_type": "text"
      },
      "source": [
        "**Print the first 8 rows of the dataframe.**"
      ]
    },
    {
      "cell_type": "code",
      "metadata": {
        "id": "KXOf3P2Bl-FD",
        "colab_type": "code",
        "colab": {
          "base_uri": "https://localhost:8080/",
          "height": 204
        },
        "outputId": "1d843bcd-3e5e-4573-ff21-3e93f994c6ce"
      },
      "source": [
        "print(cars_df.head(8))"
      ],
      "execution_count": null,
      "outputs": [
        {
          "output_type": "stream",
          "text": [
            "          Unnamed: 0   mpg  cyl   disp   hp  ...   qsec  vs  am  gear  carb\n",
            "0          Mazda RX4  21.0    6  160.0  110  ...  16.46   0   1     4     4\n",
            "1      Mazda RX4 Wag  21.0    6  160.0  110  ...  17.02   0   1     4     4\n",
            "2         Datsun 710  22.8    4  108.0   93  ...  18.61   1   1     4     1\n",
            "3     Hornet 4 Drive  21.4    6  258.0  110  ...  19.44   1   0     3     1\n",
            "4  Hornet Sportabout  18.7    8  360.0  175  ...  17.02   0   0     3     2\n",
            "5            Valiant  18.1    6  225.0  105  ...  20.22   1   0     3     1\n",
            "6         Duster 360  14.3    8  360.0  245  ...  15.84   0   0     3     4\n",
            "7          Merc 240D  24.4    4  146.7   62  ...  20.00   1   0     4     2\n",
            "\n",
            "[8 rows x 12 columns]\n"
          ],
          "name": "stdout"
        }
      ]
    },
    {
      "cell_type": "markdown",
      "metadata": {
        "id": "IZgG56WFmNNW",
        "colab_type": "text"
      },
      "source": [
        "**Rename the first column to something more meaningful.**"
      ]
    },
    {
      "cell_type": "code",
      "metadata": {
        "id": "85P4LoqamSp2",
        "colab_type": "code",
        "colab": {
          "base_uri": "https://localhost:8080/",
          "height": 297
        },
        "outputId": "d44e0593-4032-4f92-ae40-67c89bdcf2e9"
      },
      "source": [
        "cars_df.rename(columns={\"Unnamed: 0\":\"Vehicle\"}, inplace = True)\n",
        "cars_df.head(8)"
      ],
      "execution_count": null,
      "outputs": [
        {
          "output_type": "execute_result",
          "data": {
            "text/html": [
              "<div>\n",
              "<style scoped>\n",
              "    .dataframe tbody tr th:only-of-type {\n",
              "        vertical-align: middle;\n",
              "    }\n",
              "\n",
              "    .dataframe tbody tr th {\n",
              "        vertical-align: top;\n",
              "    }\n",
              "\n",
              "    .dataframe thead th {\n",
              "        text-align: right;\n",
              "    }\n",
              "</style>\n",
              "<table border=\"1\" class=\"dataframe\">\n",
              "  <thead>\n",
              "    <tr style=\"text-align: right;\">\n",
              "      <th></th>\n",
              "      <th>Vehicle</th>\n",
              "      <th>mpg</th>\n",
              "      <th>cyl</th>\n",
              "      <th>disp</th>\n",
              "      <th>hp</th>\n",
              "      <th>drat</th>\n",
              "      <th>wt</th>\n",
              "      <th>qsec</th>\n",
              "      <th>vs</th>\n",
              "      <th>am</th>\n",
              "      <th>gear</th>\n",
              "      <th>carb</th>\n",
              "    </tr>\n",
              "  </thead>\n",
              "  <tbody>\n",
              "    <tr>\n",
              "      <th>0</th>\n",
              "      <td>Mazda RX4</td>\n",
              "      <td>21.0</td>\n",
              "      <td>6</td>\n",
              "      <td>160.0</td>\n",
              "      <td>110</td>\n",
              "      <td>3.90</td>\n",
              "      <td>2.620</td>\n",
              "      <td>16.46</td>\n",
              "      <td>0</td>\n",
              "      <td>1</td>\n",
              "      <td>4</td>\n",
              "      <td>4</td>\n",
              "    </tr>\n",
              "    <tr>\n",
              "      <th>1</th>\n",
              "      <td>Mazda RX4 Wag</td>\n",
              "      <td>21.0</td>\n",
              "      <td>6</td>\n",
              "      <td>160.0</td>\n",
              "      <td>110</td>\n",
              "      <td>3.90</td>\n",
              "      <td>2.875</td>\n",
              "      <td>17.02</td>\n",
              "      <td>0</td>\n",
              "      <td>1</td>\n",
              "      <td>4</td>\n",
              "      <td>4</td>\n",
              "    </tr>\n",
              "    <tr>\n",
              "      <th>2</th>\n",
              "      <td>Datsun 710</td>\n",
              "      <td>22.8</td>\n",
              "      <td>4</td>\n",
              "      <td>108.0</td>\n",
              "      <td>93</td>\n",
              "      <td>3.85</td>\n",
              "      <td>2.320</td>\n",
              "      <td>18.61</td>\n",
              "      <td>1</td>\n",
              "      <td>1</td>\n",
              "      <td>4</td>\n",
              "      <td>1</td>\n",
              "    </tr>\n",
              "    <tr>\n",
              "      <th>3</th>\n",
              "      <td>Hornet 4 Drive</td>\n",
              "      <td>21.4</td>\n",
              "      <td>6</td>\n",
              "      <td>258.0</td>\n",
              "      <td>110</td>\n",
              "      <td>3.08</td>\n",
              "      <td>3.215</td>\n",
              "      <td>19.44</td>\n",
              "      <td>1</td>\n",
              "      <td>0</td>\n",
              "      <td>3</td>\n",
              "      <td>1</td>\n",
              "    </tr>\n",
              "    <tr>\n",
              "      <th>4</th>\n",
              "      <td>Hornet Sportabout</td>\n",
              "      <td>18.7</td>\n",
              "      <td>8</td>\n",
              "      <td>360.0</td>\n",
              "      <td>175</td>\n",
              "      <td>3.15</td>\n",
              "      <td>3.440</td>\n",
              "      <td>17.02</td>\n",
              "      <td>0</td>\n",
              "      <td>0</td>\n",
              "      <td>3</td>\n",
              "      <td>2</td>\n",
              "    </tr>\n",
              "    <tr>\n",
              "      <th>5</th>\n",
              "      <td>Valiant</td>\n",
              "      <td>18.1</td>\n",
              "      <td>6</td>\n",
              "      <td>225.0</td>\n",
              "      <td>105</td>\n",
              "      <td>2.76</td>\n",
              "      <td>3.460</td>\n",
              "      <td>20.22</td>\n",
              "      <td>1</td>\n",
              "      <td>0</td>\n",
              "      <td>3</td>\n",
              "      <td>1</td>\n",
              "    </tr>\n",
              "    <tr>\n",
              "      <th>6</th>\n",
              "      <td>Duster 360</td>\n",
              "      <td>14.3</td>\n",
              "      <td>8</td>\n",
              "      <td>360.0</td>\n",
              "      <td>245</td>\n",
              "      <td>3.21</td>\n",
              "      <td>3.570</td>\n",
              "      <td>15.84</td>\n",
              "      <td>0</td>\n",
              "      <td>0</td>\n",
              "      <td>3</td>\n",
              "      <td>4</td>\n",
              "    </tr>\n",
              "    <tr>\n",
              "      <th>7</th>\n",
              "      <td>Merc 240D</td>\n",
              "      <td>24.4</td>\n",
              "      <td>4</td>\n",
              "      <td>146.7</td>\n",
              "      <td>62</td>\n",
              "      <td>3.69</td>\n",
              "      <td>3.190</td>\n",
              "      <td>20.00</td>\n",
              "      <td>1</td>\n",
              "      <td>0</td>\n",
              "      <td>4</td>\n",
              "      <td>2</td>\n",
              "    </tr>\n",
              "  </tbody>\n",
              "</table>\n",
              "</div>"
            ],
            "text/plain": [
              "             Vehicle   mpg  cyl   disp   hp  ...   qsec  vs  am  gear  carb\n",
              "0          Mazda RX4  21.0    6  160.0  110  ...  16.46   0   1     4     4\n",
              "1      Mazda RX4 Wag  21.0    6  160.0  110  ...  17.02   0   1     4     4\n",
              "2         Datsun 710  22.8    4  108.0   93  ...  18.61   1   1     4     1\n",
              "3     Hornet 4 Drive  21.4    6  258.0  110  ...  19.44   1   0     3     1\n",
              "4  Hornet Sportabout  18.7    8  360.0  175  ...  17.02   0   0     3     2\n",
              "5            Valiant  18.1    6  225.0  105  ...  20.22   1   0     3     1\n",
              "6         Duster 360  14.3    8  360.0  245  ...  15.84   0   0     3     4\n",
              "7          Merc 240D  24.4    4  146.7   62  ...  20.00   1   0     4     2\n",
              "\n",
              "[8 rows x 12 columns]"
            ]
          },
          "metadata": {
            "tags": []
          },
          "execution_count": 12
        }
      ]
    },
    {
      "cell_type": "markdown",
      "metadata": {
        "id": "tkm-mETUmlAJ",
        "colab_type": "text"
      },
      "source": [
        "**Plot the distribution of the cyl column. Is this a continuous or discrete variable?**"
      ]
    },
    {
      "cell_type": "code",
      "metadata": {
        "id": "ZXIBx1cummNW",
        "colab_type": "code",
        "colab": {
          "base_uri": "https://localhost:8080/",
          "height": 279
        },
        "outputId": "2ffacbb7-ce6d-42ec-a91a-f5cf32a29324"
      },
      "source": [
        "ax = sns.distplot(cars_df['cyl'])\n",
        "#Cylinder Column represents a discrete variable"
      ],
      "execution_count": null,
      "outputs": [
        {
          "output_type": "display_data",
          "data": {
            "image/png": "[encoded data removed]",
            "text/plain": [
              "<Figure size 432x288 with 1 Axes>"
            ]
          },
          "metadata": {
            "tags": [],
            "needs_background": "light"
          }
        }
      ]
    },
    {
      "cell_type": "markdown",
      "metadata": {
        "id": "62Jm8CjwnHDX",
        "colab_type": "text"
      },
      "source": [
        "**What is the minimum value in the mpg column?**"
      ]
    },
    {
      "cell_type": "code",
      "metadata": {
        "id": "0Iu48GpAnNX3",
        "colab_type": "code",
        "colab": {
          "base_uri": "https://localhost:8080/",
          "height": 34
        },
        "outputId": "02ed4354-e869-4084-c8d7-bdd2a74b3b46"
      },
      "source": [
        "print(cars_df['mpg'].min())\n",
        "# The minimum value in the mpg column is 10.4"
      ],
      "execution_count": null,
      "outputs": [
        {
          "output_type": "stream",
          "text": [
            "10.4\n"
          ],
          "name": "stdout"
        }
      ]
    },
    {
      "cell_type": "markdown",
      "metadata": {
        "id": "e6L5kVecnWOe",
        "colab_type": "text"
      },
      "source": [
        "**What is the name of the car with mpg equal to 15.0?**"
      ]
    },
    {
      "cell_type": "code",
      "metadata": {
        "id": "uq7X7zL-nbox",
        "colab_type": "code",
        "colab": {
          "base_uri": "https://localhost:8080/",
          "height": 80
        },
        "outputId": "e3a12bdc-fbc6-460f-b2df-ae9351dde194"
      },
      "source": [
        "Car_with_15_mpg = cars_df['mpg'] == 15.0\n",
        "cars_df.iloc[Car_with_15_mpg.values]\n",
        "# The Maserati Bora is the name of the vehicle with 15.0 mpg"
      ],
      "execution_count": null,
      "outputs": [
        {
          "output_type": "execute_result",
          "data": {
            "text/html": [
              "<div>\n",
              "<style scoped>\n",
              "    .dataframe tbody tr th:only-of-type {\n",
              "        vertical-align: middle;\n",
              "    }\n",
              "\n",
              "    .dataframe tbody tr th {\n",
              "        vertical-align: top;\n",
              "    }\n",
              "\n",
              "    .dataframe thead th {\n",
              "        text-align: right;\n",
              "    }\n",
              "</style>\n",
              "<table border=\"1\" class=\"dataframe\">\n",
              "  <thead>\n",
              "    <tr style=\"text-align: right;\">\n",
              "      <th></th>\n",
              "      <th>Vehicle</th>\n",
              "      <th>mpg</th>\n",
              "      <th>cyl</th>\n",
              "      <th>disp</th>\n",
              "      <th>hp</th>\n",
              "      <th>drat</th>\n",
              "      <th>wt</th>\n",
              "      <th>qsec</th>\n",
              "      <th>vs</th>\n",
              "      <th>am</th>\n",
              "      <th>gear</th>\n",
              "      <th>carb</th>\n",
              "    </tr>\n",
              "  </thead>\n",
              "  <tbody>\n",
              "    <tr>\n",
              "      <th>30</th>\n",
              "      <td>Maserati Bora</td>\n",
              "      <td>15.0</td>\n",
              "      <td>8</td>\n",
              "      <td>301.0</td>\n",
              "      <td>335</td>\n",
              "      <td>3.54</td>\n",
              "      <td>3.57</td>\n",
              "      <td>14.6</td>\n",
              "      <td>0</td>\n",
              "      <td>1</td>\n",
              "      <td>5</td>\n",
              "      <td>8</td>\n",
              "    </tr>\n",
              "  </tbody>\n",
              "</table>\n",
              "</div>"
            ],
            "text/plain": [
              "          Vehicle   mpg  cyl   disp   hp  drat    wt  qsec  vs  am  gear  carb\n",
              "30  Maserati Bora  15.0    8  301.0  335  3.54  3.57  14.6   0   1     5     8"
            ]
          },
          "metadata": {
            "tags": []
          },
          "execution_count": 19
        }
      ]
    },
    {
      "cell_type": "markdown",
      "metadata": {
        "id": "kcR96H6GoOba",
        "colab_type": "text"
      },
      "source": [
        "\n",
        "**What is the name of the car that has the best gas mileage?**"
      ]
    },
    {
      "cell_type": "code",
      "metadata": {
        "id": "SQ4S2cQkoX3D",
        "colab_type": "code",
        "colab": {
          "base_uri": "https://localhost:8080/",
          "height": 51
        },
        "outputId": "0c16d17e-da88-4923-82a6-f9db45827e21"
      },
      "source": [
        "cars_df.loc[cars_df['mpg'] == cars_df['mpg'].max(), 'Vehicle']\n",
        "# The Toyota Corola is the vehicle with the best gas mileage"
      ],
      "execution_count": null,
      "outputs": [
        {
          "output_type": "execute_result",
          "data": {
            "text/plain": [
              "19    Toyota Corolla\n",
              "Name: Vehicle, dtype: object"
            ]
          },
          "metadata": {
            "tags": []
          },
          "execution_count": 20
        }
      ]
    },
    {
      "cell_type": "markdown",
      "metadata": {
        "id": "8-0Wl9y6oxOe",
        "colab_type": "text"
      },
      "source": [
        "**Use your intuition from the variable descriptions and visulaizations to find 2 variables that appear to be positively correlated.**"
      ]
    },
    {
      "cell_type": "code",
      "metadata": {
        "id": "r-mnHi_-o5s4",
        "colab_type": "code",
        "colab": {
          "base_uri": "https://localhost:8080/",
          "height": 286
        },
        "outputId": "8b8afc00-76ae-4ffc-b536-0fef608d98df"
      },
      "source": [
        "sns.heatmap(cars_df.corr(), annot=True)"
      ],
      "execution_count": null,
      "outputs": [
        {
          "output_type": "execute_result",
          "data": {
            "text/plain": [
              "<matplotlib.axes._subplots.AxesSubplot at 0x7f11801767b8>"
            ]
          },
          "metadata": {
            "tags": []
          },
          "execution_count": 21
        },
        {
          "output_type": "display_data",
          "data": {
            "image/png": "[encoded data removed]",
            "text/plain": [
              "<Figure size 432x288 with 2 Axes>"
            ]
          },
          "metadata": {
            "tags": [],
            "needs_background": "light"
          }
        }
      ]
    },
    {
      "cell_type": "markdown",
      "metadata": {
        "id": "jMXckfN6pIHh",
        "colab_type": "text"
      },
      "source": [
        "**According to the correlation matrix, two variables that appear to be positively correlated are cyl and disp at a value of 0.91**"
      ]
    },
    {
      "cell_type": "markdown",
      "metadata": {
        "id": "WanBsl8OphRQ",
        "colab_type": "text"
      },
      "source": [
        "**Use your intuition from the variable descriptions and visulaizations to find 2 variables that appear to be negatively correlated.**"
      ]
    },
    {
      "cell_type": "markdown",
      "metadata": {
        "id": "CyrEO6m2pkVM",
        "colab_type": "text"
      },
      "source": [
        "**According to the correlation matrix, two variables that appear to be negatively correlated are cyl and mpg at a value of -0.85**"
      ]
    }
  ]
}